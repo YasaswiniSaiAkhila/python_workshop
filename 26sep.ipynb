{
 "cells": [
  {
   "cell_type": "markdown",
   "metadata": {},
   "source": [
    "### input =ECE CSE MEC CIV IT\n",
    "### OUTPUT=ECE ESC MEC VIC IT\n",
    "###              ECE CSE CEM CIV TI   "
   ]
  },
  {
   "cell_type": "code",
   "execution_count": 6,
   "metadata": {},
   "outputs": [
    {
     "name": "stdout",
     "output_type": "stream",
     "text": [
      "enter the dataECE CSE MEC CIV IT\n",
      "ECE ESC MEC VIC IT \n",
      "ECE CSE CEM CIV TI "
     ]
    }
   ],
   "source": [
    "data=input(\"enter the data\")\n",
    "data=data.split()\n",
    "for i in range(len(data)):\n",
    "    if(i%2==1):\n",
    "        print(data[i][::-1],end=\" \")\n",
    "    else:\n",
    "        print(data[i],end=\" \")\n",
    "print()        \n",
    "for i in range(len(data)):\n",
    "    if(i%2==0):\n",
    "        print(data[i][::-1],end=\" \")\n",
    "    else:\n",
    "        print(data[i],end=\" \")\n",
    "        \n"
   ]
  },
  {
   "cell_type": "markdown",
   "metadata": {},
   "source": [
    "### INPUT=4CSE5ECE2MEC3CIV\n",
    "### OUTPUT=CSECSECSECSEECEECEECE...."
   ]
  },
  {
   "cell_type": "code",
   "execution_count": 2,
   "metadata": {},
   "outputs": [
    {
     "name": "stdout",
     "output_type": "stream",
     "text": [
      "enter no. of times does the string wants to print and the string 4CSE5ECE2MEC3CIV\n",
      "CSECSECSECSE\n",
      "ECEECEECEECEECE\n",
      "MECMEC\n",
      "CIVCIVCIV\n"
     ]
    }
   ],
   "source": [
    "data=input(\"enter no. of times does the string wants to print and the string \")\n",
    "string=''\n",
    "num=data[0]\n",
    "for i in range(1,(len(data)),1):\n",
    "    if(data[i].isalpha()):\n",
    "        string=string+data[i]\n",
    "    if(data[i].isnumeric()):\n",
    "        print(string*int(num))\n",
    "        string=''\n",
    "        num=data[i]\n",
    "print(string*int(num))        \n",
    "    "
   ]
  },
  {
   "cell_type": "markdown",
   "metadata": {},
   "source": [
    "### INPUT=CSE4ECE5MEC3CIV5\n",
    "### OUTPUT=CSECSECSECSEECEECEECEECEEC...."
   ]
  },
  {
   "cell_type": "code",
   "execution_count": 43,
   "metadata": {},
   "outputs": [
    {
     "name": "stdout",
     "output_type": "stream",
     "text": [
      "enter stringCSE4ECE5MEC3CIV5\n",
      "CSECSECSECSE\n",
      "ECEECEECEECEECE\n",
      "MECMECMEC\n",
      "CIVCIVCIVCIVCIV\n"
     ]
    }
   ],
   "source": [
    "data=input(\"enter string\")\n",
    "string=''\n",
    "for i in range(len(data)):\n",
    "    if(data[i].isalpha()):\n",
    "        string=string+data[i]\n",
    "    if(data[i].isnumeric()):\n",
    "        print(string*int(data[i]))\n",
    "        string=''"
   ]
  },
  {
   "cell_type": "markdown",
   "metadata": {},
   "source": [
    "### INPUT=PYTHON\n",
    "### OUTPUT=PPPPPPYYYYYTTTTHHHOON"
   ]
  },
  {
   "cell_type": "code",
   "execution_count": 47,
   "metadata": {},
   "outputs": [
    {
     "name": "stdout",
     "output_type": "stream",
     "text": [
      "enter the stringpython\n",
      "ppppppyyyyytttthhhoon"
     ]
    }
   ],
   "source": [
    "data=input(\"enter the string\")\n",
    "l=len(data)\n",
    "for i in range(len(data)):\n",
    "    print(data[i]*l,end=\"\")\n",
    "    l=l-1"
   ]
  },
  {
   "cell_type": "markdown",
   "metadata": {},
   "source": [
    "## reverse a string"
   ]
  },
  {
   "cell_type": "code",
   "execution_count": 48,
   "metadata": {},
   "outputs": [
    {
     "name": "stdout",
     "output_type": "stream",
     "text": [
      "enter a stringsai\n",
      "ias\n"
     ]
    }
   ],
   "source": [
    "data=input(\"enter a string\")\n",
    "revstring=data[::-1]\n",
    "print(revstring)"
   ]
  },
  {
   "cell_type": "markdown",
   "metadata": {},
   "source": [
    "## palindrome"
   ]
  },
  {
   "cell_type": "code",
   "execution_count": 49,
   "metadata": {},
   "outputs": [
    {
     "name": "stdout",
     "output_type": "stream",
     "text": [
      "enter a stringyasaswini\n",
      "not a palindrom\n"
     ]
    }
   ],
   "source": [
    "data=input(\"enter a string\")\n",
    "revstring=data[::-1]\n",
    "if(data==revstring):\n",
    "    print(\"palindrome\")\n",
    "else:    \n",
    "    print(\"not a palindrom\")"
   ]
  },
  {
   "cell_type": "markdown",
   "metadata": {},
   "source": [
    "## task1"
   ]
  },
  {
   "cell_type": "code",
   "execution_count": 57,
   "metadata": {},
   "outputs": [
    {
     "name": "stdout",
     "output_type": "stream",
     "text": [
      "[1, 4, 7, 9, 25, 78, 5, 6, 45, 58, 12, 16]\n"
     ]
    }
   ],
   "source": [
    "li=[78,25,9,7,4,1,5,6,45,58,12,16]\n",
    "mid=len(li)//2\n",
    "l_li=li[:mid]\n",
    "l_li.sort()\n",
    "r_li=li[mid+1:]\n",
    "data=l_li+r_li\n",
    "data.insert(mid,li[mid])\n",
    "print(data)"
   ]
  },
  {
   "cell_type": "markdown",
   "metadata": {},
   "source": [
    "## task2"
   ]
  },
  {
   "cell_type": "code",
   "execution_count": 59,
   "metadata": {},
   "outputs": [
    {
     "name": "stdout",
     "output_type": "stream",
     "text": [
      "[78, 25, 9, 7, 4, 1, 5, 6, 12, 16, 45, 58]\n"
     ]
    }
   ],
   "source": [
    "li=[78,25,9,7,4,1,5,6,45,58,12,16]\n",
    "mid=len(li)//2\n",
    "l_li=li[:mid]\n",
    "r_li=li[mid+1:]\n",
    "r_li.sort()\n",
    "data=l_li+r_li\n",
    "data.insert(mid,li[mid])\n",
    "print(data)"
   ]
  },
  {
   "cell_type": "markdown",
   "metadata": {},
   "source": [
    "## task3"
   ]
  },
  {
   "cell_type": "code",
   "execution_count": 3,
   "metadata": {},
   "outputs": [
    {
     "name": "stdout",
     "output_type": "stream",
     "text": [
      "[1, 4, 7, 9, 25, 78, 5, 58, 45, 16, 12, 6]\n"
     ]
    }
   ],
   "source": [
    "li=[78,25,9,7,4,1,5,6,45,58,12,16]\n",
    "mid=len(li)//2\n",
    "l_li=li[:mid]\n",
    "l_li.sort()\n",
    "r_li=li[mid+1:]\n",
    "r_li.sort(reverse=True)\n",
    "data=l_li+r_li\n",
    "data.insert(mid,li[mid])\n",
    "print(data)"
   ]
  },
  {
   "cell_type": "code",
   "execution_count": null,
   "metadata": {},
   "outputs": [],
   "source": []
  }
 ],
 "metadata": {
  "kernelspec": {
   "display_name": "Python 3",
   "language": "python",
   "name": "python3"
  },
  "language_info": {
   "codemirror_mode": {
    "name": "ipython",
    "version": 3
   },
   "file_extension": ".py",
   "mimetype": "text/x-python",
   "name": "python",
   "nbconvert_exporter": "python",
   "pygments_lexer": "ipython3",
   "version": "3.7.1"
  }
 },
 "nbformat": 4,
 "nbformat_minor": 2
}
