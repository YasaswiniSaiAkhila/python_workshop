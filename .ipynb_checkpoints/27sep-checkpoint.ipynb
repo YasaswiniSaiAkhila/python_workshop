{
 "cells": [
  {
   "cell_type": "markdown",
   "metadata": {},
   "source": [
    "# Contact Application"
   ]
  },
  {
   "cell_type": "code",
   "execution_count": 90,
   "metadata": {},
   "outputs": [],
   "source": [
    "contact={}"
   ]
  },
  {
   "cell_type": "code",
   "execution_count": 91,
   "metadata": {},
   "outputs": [
    {
     "ename": "SyntaxError",
     "evalue": "EOF while scanning triple-quoted string literal (<ipython-input-91-7a28674c0316>, line 8)",
     "output_type": "error",
     "traceback": [
      "\u001b[1;36m  File \u001b[1;32m\"<ipython-input-91-7a28674c0316>\"\u001b[1;36m, line \u001b[1;32m8\u001b[0m\n\u001b[1;33m    add_contact(\"sai\",2334)\u001b[0m\n\u001b[1;37m                                   \n^\u001b[0m\n\u001b[1;31mSyntaxError\u001b[0m\u001b[1;31m:\u001b[0m EOF while scanning triple-quoted string literal\n"
     ]
    }
   ],
   "source": [
    "'''''def add_contact(name,number):\n",
    "    for key in contact.keys():\n",
    "        if(name==key):\n",
    "            print(\"contact already exist.....!!\")\n",
    "        else:\n",
    "            contact[name]=number\n",
    "            print(\"contact added successfully.....\")\n",
    "add_contact(\"sai\",2334)        "
   ]
  },
  {
   "cell_type": "code",
   "execution_count": 92,
   "metadata": {},
   "outputs": [],
   "source": [
    "def add_contact(name,number):\n",
    "     if (name in contact.keys()):\n",
    "        print(\"contact already exist.....!!\")\n",
    "     else:\n",
    "        contact[name]=number\n",
    "        print(\"contact added successfully.....\")\n",
    "        "
   ]
  },
  {
   "cell_type": "code",
   "execution_count": 106,
   "metadata": {},
   "outputs": [],
   "source": [
    "def del_contact(name):\n",
    "    if (name in contact.keys()):\n",
    "        contact.pop(name)\n",
    "        print(\"deleted sucessfully....\")\n",
    "        "
   ]
  },
  {
   "cell_type": "code",
   "execution_count": 94,
   "metadata": {},
   "outputs": [],
   "source": [
    "def search_contact():\n",
    "    data=input(\"enter the data\")\n",
    "    if(data[0].isalpha()):\n",
    "        for key in contact.keys():\n",
    "            if(key==data):\n",
    "                print(\"yes, the contact exist..\")\n",
    "            else:\n",
    "                print(\"the contact does not exist....\")\n",
    "    if(data[0].isnumeric()):\n",
    "        for value in contact.values():\n",
    "            if(value==data):\n",
    "                 print(\"yes, the contact exist..\")\n",
    "            else:\n",
    "                print(\"the contact does not exist....\")"
   ]
  },
  {
   "cell_type": "code",
   "execution_count": 108,
   "metadata": {},
   "outputs": [],
   "source": [
    "def update_contact(name,number):\n",
    "    if (name in contact.keys()):\n",
    "        contact[name]=number\n",
    "        print(\"contact is updated.......\")\n",
    "    else:\n",
    "        print(\"there is no such contact found.......!!!!\")\n",
    "            \n",
    "            "
   ]
  },
  {
   "cell_type": "code",
   "execution_count": 96,
   "metadata": {},
   "outputs": [],
   "source": [
    "def display_contact():\n",
    "    i=0\n",
    "    if(i<len(contact)):\n",
    "        for key,value in contact.items():\n",
    "            print(i+1,\".\",key,\"----->\",value)\n",
    "            i=i+1\n",
    "\n"
   ]
  },
  {
   "cell_type": "code",
   "execution_count": 111,
   "metadata": {},
   "outputs": [
    {
     "name": "stdout",
     "output_type": "stream",
     "text": [
      "contact already exist.....!!\n",
      "contact already exist.....!!\n"
     ]
    }
   ],
   "source": [
    "add_contact(\"yash\",7894561235)\n",
    "add_contact(\"sai\",2334)        "
   ]
  },
  {
   "cell_type": "code",
   "execution_count": 107,
   "metadata": {},
   "outputs": [
    {
     "name": "stdout",
     "output_type": "stream",
     "text": [
      "deleted sucessfully....\n"
     ]
    }
   ],
   "source": [
    "del_contact(\"sai\")"
   ]
  },
  {
   "cell_type": "code",
   "execution_count": 103,
   "metadata": {},
   "outputs": [
    {
     "name": "stdout",
     "output_type": "stream",
     "text": [
      "1 . yash -----> 7894561235\n",
      "2 . sai -----> 2334\n"
     ]
    }
   ],
   "source": [
    "display_contact()"
   ]
  },
  {
   "cell_type": "code",
   "execution_count": 49,
   "metadata": {},
   "outputs": [
    {
     "data": {
      "text/plain": [
       "{}"
      ]
     },
     "execution_count": 49,
     "metadata": {},
     "output_type": "execute_result"
    }
   ],
   "source": [
    "contact\n"
   ]
  },
  {
   "cell_type": "code",
   "execution_count": 113,
   "metadata": {},
   "outputs": [
    {
     "name": "stdout",
     "output_type": "stream",
     "text": [
      "enter the data2334\n",
      "the contact does not exist....\n",
      "the contact does not exist....\n"
     ]
    }
   ],
   "source": [
    "search_contact()"
   ]
  },
  {
   "cell_type": "code",
   "execution_count": 112,
   "metadata": {},
   "outputs": [
    {
     "name": "stdout",
     "output_type": "stream",
     "text": [
      "contact is updated.......\n"
     ]
    }
   ],
   "source": [
    "update_contact(\"sai\",123456789)"
   ]
  },
  {
   "cell_type": "code",
   "execution_count": null,
   "metadata": {},
   "outputs": [],
   "source": []
  }
 ],
 "metadata": {
  "kernelspec": {
   "display_name": "Python 3",
   "language": "python",
   "name": "python3"
  },
  "language_info": {
   "codemirror_mode": {
    "name": "ipython",
    "version": 3
   },
   "file_extension": ".py",
   "mimetype": "text/x-python",
   "name": "python",
   "nbconvert_exporter": "python",
   "pygments_lexer": "ipython3",
   "version": "3.7.1"
  }
 },
 "nbformat": 4,
 "nbformat_minor": 2
}
