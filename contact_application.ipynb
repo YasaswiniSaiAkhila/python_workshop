{
 "cells": [
  {
   "cell_type": "code",
   "execution_count": 1,
   "metadata": {},
   "outputs": [],
   "source": [
    "import contact"
   ]
  },
  {
   "cell_type": "code",
   "execution_count": 25,
   "metadata": {},
   "outputs": [
    {
     "name": "stdout",
     "output_type": "stream",
     "text": [
      "contact already exist.....!!\n",
      "contact added successfully.....\n",
      "contact already exist.....!!\n"
     ]
    }
   ],
   "source": [
    "contact.add_contact(\"yash\",123456789)\n",
    "contact.add_contact(\"sai\",789456123)\n",
    "contact.add_contact(\"akhila\",123458643)"
   ]
  },
  {
   "cell_type": "code",
   "execution_count": 20,
   "metadata": {},
   "outputs": [
    {
     "name": "stdout",
     "output_type": "stream",
     "text": [
      "deleted sucessfully....\n"
     ]
    }
   ],
   "source": [
    "contact.del_contact(\"sai\")"
   ]
  },
  {
   "cell_type": "code",
   "execution_count": 3,
   "metadata": {},
   "outputs": [
    {
     "name": "stdout",
     "output_type": "stream",
     "text": [
      "enter the data13\n",
      "contact does not exist\n"
     ]
    }
   ],
   "source": [
    "contact.search_contact()"
   ]
  },
  {
   "cell_type": "code",
   "execution_count": 22,
   "metadata": {},
   "outputs": [
    {
     "name": "stdout",
     "output_type": "stream",
     "text": [
      "contact is updated.......\n"
     ]
    }
   ],
   "source": [
    "contact.update_contact(\"akhila\",123456)"
   ]
  },
  {
   "cell_type": "code",
   "execution_count": 26,
   "metadata": {},
   "outputs": [
    {
     "name": "stdout",
     "output_type": "stream",
     "text": [
      "1 . yash -----> 123456789\n",
      "2 . akhila -----> 123456\n",
      "3 . sai -----> 789456123\n"
     ]
    }
   ],
   "source": [
    "contact.display_contact()"
   ]
  },
  {
   "cell_type": "code",
   "execution_count": null,
   "metadata": {},
   "outputs": [],
   "source": [
    "form contact_application.ipynb"
   ]
  }
 ],
 "metadata": {
  "kernelspec": {
   "display_name": "Python 3",
   "language": "python",
   "name": "python3"
  },
  "language_info": {
   "codemirror_mode": {
    "name": "ipython",
    "version": 3
   },
   "file_extension": ".py",
   "mimetype": "text/x-python",
   "name": "python",
   "nbconvert_exporter": "python",
   "pygments_lexer": "ipython3",
   "version": "3.7.1"
  }
 },
 "nbformat": 4,
 "nbformat_minor": 2
}
