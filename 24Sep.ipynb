
// In this file i would like to change some thing in branch one 
{
 "cells": [
  {
   "cell_type": "markdown",
   "metadata": {},
   "source": [
    "## check whether the photo can be uploaded or not"
   ]
  },
  {
   "cell_type": "code",
   "execution_count": 3,
   "metadata": {},
   "outputs": [
    {
     "name": "stdout",
     "output_type": "stream",
     "text": [
      "enter the no. of tests3\n",
      "enter the height of the photo180\n",
      "enter the width of the photo180\n",
      "photo is updated sucessfully\n",
      "enter the height of the photo234\n",
      "enter the width of the photo567\n",
      "crop the photo\n",
      "enter the height of the photo123\n",
      "enter the width of the photo145\n",
      "upload another photo\n"
     ]
    }
   ],
   "source": [
    "test=int(input(\"enter the no. of tests\"))\n",
    "for i in range (1,test+1):\n",
    "    size=180\n",
    "    height=int(input(\"enter the height of the photo\"))\n",
    "    width=int(input(\"enter the width of the photo\"))\n",
    "    if height>size and width>size:\n",
    "        print(\"crop the photo\")\n",
    "    elif height==180 and width==180:\n",
    "        print(\"photo is updated sucessfully\")\n",
    "    else :\n",
    "        print(\"upload another photo\")\n",
    "    \n",
    "          "
   ]
  },
  {
   "cell_type": "markdown",
   "metadata": {},
   "source": [
    "## who is the winner"
   ]
  },
  {
   "cell_type": "code",
   "execution_count": 16,
   "metadata": {},
   "outputs": [
    {
     "name": "stdout",
     "output_type": "stream",
     "text": [
      "enter the number of bricks13\n",
      "y is winner\n"
     ]
    }
   ],
   "source": [
    "bricks=int(input(\"enter the number of bricks\"))\n",
    "i=1\n",
    "while(i):\n",
    "    x=i\n",
    "    bricks=bricks-x\n",
    "    if(bricks<=0):\n",
    "        print(\"X is winner\")\n",
    "        break\n",
    "    y=(2*x)\n",
    "    bricks=bricks-y\n",
    "    if(bricks<=0):\n",
    "        print(\"y is winner\")\n",
    "        break\n",
    "    i=i+1\n",
    "     \n",
    "\n"
   ]
  },
  {
   "cell_type": "markdown",
   "metadata": {},
   "source": [
    "## check whether the number is legal or illegal"
   ]
  },
  {
   "cell_type": "code",
   "execution_count": 10,
   "metadata": {},
   "outputs": [
    {
     "name": "stdout",
     "output_type": "stream",
     "text": [
      "enter a number1401601499\n",
      "the number is legal\n"
     ]
    }
   ],
   "source": [
    "number=int(input(\"enter a number\"))\n",
    "count=0\n",
    "total=0\n",
    "while(number>0):\n",
    "    number =number//10\n",
    "    count=count+1\n",
    "if (count==10):\n",
    "    for i in range(10,1,-1):\n",
    "        num=number%10\n",
    "        total=num*i\n",
    "        if total%11==0:\n",
    "            print(\"the number is legal\")\n",
    "            break\n",
    "        else :\n",
    "            print(\"the number is illegal\")\n",
    "else:\n",
    "    print(\"the number is illegal\")"
   ]
  },
  {
   "cell_type": "markdown",
   "metadata": {},
   "source": [
    "## sum of digit in a number"
   ]
  },
  {
   "cell_type": "code",
   "execution_count": 17,
   "metadata": {},
   "outputs": [
    {
     "name": "stdout",
     "output_type": "stream",
     "text": [
      "enter the number 12345\n",
      "the sum is 15\n"
     ]
    }
   ],
   "source": [
    "n=int(input(\"enter the number \"))\n",
    "sum1=0\n",
    "while(n!=0):\n",
    "    sum1=sum1+(n%10)\n",
    "    n=n//10\n",
    "print(\"the sum is\",sum1)    "
   ]
  },
  {
   "cell_type": "markdown",
   "metadata": {},
   "source": [
    "## Last and first digits"
   ]
  },
  {
   "cell_type": "code",
   "execution_count": 20,
   "metadata": {},
   "outputs": [
    {
     "name": "stdout",
     "output_type": "stream",
     "text": [
      "enter a number 2134567\n",
      "last digit is 7\n",
      "first digit is  2\n"
     ]
    }
   ],
   "source": [
    "n=int(input(\"enter a number \"))\n",
    "print(\"last digit is\",n%10)\n",
    "while(n>10):\n",
    "    n=n//10\n",
    "print(\"first digit is \",n)    "
   ]
  },
  {
   "cell_type": "markdown",
   "metadata": {},
   "source": [
    "## cycle count"
   ]
  },
  {
   "cell_type": "code",
   "execution_count": 24,
   "metadata": {},
   "outputs": [
    {
     "name": "stdout",
     "output_type": "stream",
     "text": [
      "enter a digit7\n",
      "17\n"
     ]
    }
   ],
   "source": [
    "num=int(input(\"enter a digit\"))\n",
    "cycle=1\n",
    "while(num!=1):\n",
    "    if(num%2==0):\n",
    "        num=num/2\n",
    "        cycle=cycle+1\n",
    "    else:\n",
    "        num=num*3+1\n",
    "        cycle=cycle+1\n",
    "print(cycle )\n",
    "    "
   ]
  },
  {
   "cell_type": "markdown",
   "metadata": {},
   "source": [
    "## factors"
   ]
  },
  {
   "cell_type": "code",
   "execution_count": 33,
   "metadata": {},
   "outputs": [
    {
     "name": "stdout",
     "output_type": "stream",
     "text": [
      "enter the number28\n",
      "1\n",
      "2\n",
      "4\n",
      "7\n",
      "14\n",
      "28\n"
     ]
    }
   ],
   "source": [
    "num=int(input(\"enter the number\"))\n",
    "count=0\n",
    "for i in range(1,num+1):\n",
    "    if(num%i==0):\n",
    "        print(i)\n",
    "        count=count+1\n",
    "\n"
   ]
  },
  {
   "cell_type": "markdown",
   "metadata": {},
   "source": [
    "## multiplication of tables"
   ]
  },
  {
   "cell_type": "code",
   "execution_count": 26,
   "metadata": {},
   "outputs": [
    {
     "name": "stdout",
     "output_type": "stream",
     "text": [
      "enter the number5\n",
      "5 * 1 = 2\n",
      "5 * 2 = 4\n",
      "5 * 3 = 6\n",
      "5 * 4 = 8\n",
      "5 * 5 = 10\n",
      "5 * 6 = 12\n",
      "5 * 7 = 14\n",
      "5 * 8 = 16\n",
      "5 * 9 = 18\n",
      "5 * 10 = 20\n"
     ]
    }
   ],
   "source": [
    "num=int(input(\"enter the number\"))\n",
    "for i in range (1,11):\n",
    "    print(num,\"*\",i,\"=\",(n*i))\n"
   ]
  },
  {
   "cell_type": "markdown",
   "metadata": {},
   "source": [
    "## multiplication of tables in range"
   ]
  },
  {
   "cell_type": "code",
   "execution_count": 31,
   "metadata": {},
   "outputs": [
    {
     "name": "stdout",
     "output_type": "stream",
     "text": [
      "enter from value2\n",
      "enter to value5\n",
      "2 * 1 = 2\n",
      "2 * 2 = 4\n",
      "2 * 3 = 6\n",
      "2 * 4 = 8\n",
      "2 * 5 = 10\n",
      "2 * 6 = 12\n",
      "2 * 7 = 14\n",
      "2 * 8 = 16\n",
      "2 * 9 = 18\n",
      "2 * 10 = 20\n",
      "3 * 1 = 3\n",
      "3 * 2 = 6\n",
      "3 * 3 = 9\n",
      "3 * 4 = 12\n",
      "3 * 5 = 15\n",
      "3 * 6 = 18\n",
      "3 * 7 = 21\n",
      "3 * 8 = 24\n",
      "3 * 9 = 27\n",
      "3 * 10 = 30\n",
      "4 * 1 = 4\n",
      "4 * 2 = 8\n",
      "4 * 3 = 12\n",
      "4 * 4 = 16\n",
      "4 * 5 = 20\n",
      "4 * 6 = 24\n",
      "4 * 7 = 28\n",
      "4 * 8 = 32\n",
      "4 * 9 = 36\n",
      "4 * 10 = 40\n"
     ]
    }
   ],
   "source": [
    "n1=int(input(\"enter from value\"))\n",
    "n2=int(input(\"enter to value\"))\n",
    "for j in range(n1,n2):\n",
    "    for i in range (1,11):\n",
    "        print(j,\"*\",i,\"=\",(j*i))\n",
    "   \n"
   ]
  },
  {
   "cell_type": "markdown",
   "metadata": {},
   "source": [
    "## expressions1 "
   ]
  },
  {
   "cell_type": "code",
   "execution_count": null,
   "metadata": {},
   "outputs": [],
   "source": []
  },
  {
   "cell_type": "markdown",
   "metadata": {},
   "source": [
    "## expression2"
   ]
  },
  {
   "cell_type": "code",
   "execution_count": null,
   "metadata": {},
   "outputs": [],
   "source": []
  },
  {
   "cell_type": "markdown",
   "metadata": {},
   "source": [
    "## leap years"
   ]
  },
  {
   "cell_type": "code",
   "execution_count": null,
   "metadata": {},
   "outputs": [],
   "source": []
  },
  {
   "cell_type": "markdown",
   "metadata": {},
   "source": [
    "## Sum of Natural Numbers"
   ]
  },
  {
   "cell_type": "code",
   "execution_count": null,
   "metadata": {},
   "outputs": [],
   "source": []
  }
 ],
 "metadata": {
  "kernelspec": {
   "display_name": "Python 3",
   "language": "python",
   "name": "python3"
  },
  "language_info": {
   "codemirror_mode": {
    "name": "ipython",
    "version": 3
   },
   "file_extension": ".py",
   "mimetype": "text/x-python",
   "name": "python",
   "nbconvert_exporter": "python",
   "pygments_lexer": "ipython3",
   "version": "3.7.1"
  }
 },
 "nbformat": 4,
 "nbformat_minor": 2
}
